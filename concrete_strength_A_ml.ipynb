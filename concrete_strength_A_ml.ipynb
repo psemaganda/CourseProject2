{
  "nbformat": 4,
  "nbformat_minor": 0,
  "metadata": {
    "colab": {
      "provenance": [],
      "authorship_tag": "ABX9TyPaLcrfwa7sOP33VGNOC2Sq",
      "include_colab_link": true
    },
    "kernelspec": {
      "name": "python3",
      "display_name": "Python 3"
    },
    "language_info": {
      "name": "python"
    }
  },
  "cells": [
    {
      "cell_type": "markdown",
      "metadata": {
        "id": "view-in-github",
        "colab_type": "text"
      },
      "source": [
        "<a href=\"https://colab.research.google.com/github/psemaganda/CourseProject2/blob/master/concrete_strength_A_ml.ipynb\" target=\"_parent\"><img src=\"https://colab.research.google.com/assets/colab-badge.svg\" alt=\"Open In Colab\"/></a>"
      ]
    },
    {
      "cell_type": "code",
      "source": [
        "import numpy as np\n",
        "import pandas as pd\n",
        "from keras.models import Sequential\n",
        "from keras.layers import Dense\n",
        "from keras.optimizers import Adam"
      ],
      "metadata": {
        "id": "ZB5oWSJ5bwar"
      },
      "execution_count": 1,
      "outputs": []
    },
    {
      "cell_type": "code",
      "source": [
        "# Read dataframe from csv in google drive\n",
        "from google.colab import drive\n",
        "drive.mount('/content/drive')\n",
        "\n"
      ],
      "metadata": {
        "colab": {
          "base_uri": "https://localhost:8080/"
        },
        "id": "BUSShRQ4b_oV",
        "outputId": "b8b8ec9f-7d01-4822-cccc-525ebeacc639"
      },
      "execution_count": 2,
      "outputs": [
        {
          "output_type": "stream",
          "name": "stdout",
          "text": [
            "Mounted at /content/drive\n"
          ]
        }
      ]
    },
    {
      "cell_type": "code",
      "source": [
        "csv_file_path = '/content/drive/MyDrive/concrete_data.csv'\n",
        "df = pd.read_csv(csv_file_path)"
      ],
      "metadata": {
        "id": "Fsd7AuPiewwt"
      },
      "execution_count": 4,
      "outputs": []
    },
    {
      "cell_type": "code",
      "source": [
        "print(df.columns)"
      ],
      "metadata": {
        "id": "hM7yGa3egNwQ"
      },
      "execution_count": null,
      "outputs": []
    },
    {
      "cell_type": "code",
      "source": [
        "from sklearn.model_selection import train_test_split\n",
        "\n",
        "# Drop the 'Strength' column to obtain the features (X)\n",
        "X = df.drop('Strength', axis=1)\n",
        "\n",
        "# The 'Strength' column is now removed from X\n",
        "y = df['Strength']\n",
        "\n",
        "# Split the data into training and testing sets\n",
        "X_train, X_test, y_train, y_test = train_test_split(X, y, test_size=0.3, random_state=42)\n"
      ],
      "metadata": {
        "id": "HZgtIcvrrpYB"
      },
      "execution_count": 11,
      "outputs": []
    },
    {
      "cell_type": "code",
      "execution_count": null,
      "metadata": {
        "id": "Phmd1i8cavTt"
      },
      "outputs": [],
      "source": [
        "# Define the model\n",
        "model = Sequential()\n",
        "\n",
        "# Add one hidden layer with 10 nodes and ReLU activation function\n",
        "model.add(Dense(10, input_dim=X_train.shape[1], activation='relu'))\n",
        "\n",
        "# Add the output layer with one node (assuming it's a regression problem)\n",
        "model.add(Dense(1))\n",
        "\n",
        "# Compile the model\n",
        "model.compile(optimizer='adam', loss='mean_squared_error')\n"
      ]
    },
    {
      "cell_type": "code",
      "source": [
        "from sklearn.model_selection import train_test_split\n",
        "from sklearn.metrics import mean_squared_error\n",
        "\n",
        "# Initialize an empty list to store MSE values\n",
        "mse_values = []\n",
        "\n",
        "# Define the number of iterations (50 in this case)\n",
        "num_iterations = 50\n",
        "\n",
        "for _ in range(num_iterations):\n",
        "    # Split data into training and testing sets\n",
        "    X_train, X_test, y_train, y_test = train_test_split(X, y, test_size=0.3, random_state=42)\n",
        "\n",
        "    # Train model\n",
        "    model.fit(X_train, y_train)\n",
        "\n",
        "    # Make predictions on test set\n",
        "    y_pred = model.predict(X_test)\n",
        "\n",
        "    # Calculate MSE and append it to the list\n",
        "    mse = mean_squared_error(y_test, y_pred)\n",
        "    mse_values.append(mse)\n",
        "\n",
        "# The 'mse_values' list is populated 50 MSE values\n",
        "print(len(mse_values))\n"
      ],
      "metadata": {
        "id": "2_8zn6Rn1ASm"
      },
      "execution_count": null,
      "outputs": []
    },
    {
      "cell_type": "code",
      "source": [
        "# Calculate the mean and standard deviation of MSE values\n",
        "mean_mse = np.mean(mse_values)\n",
        "std_mse = np.std(mse_values)\n",
        "\n",
        "# Print the results with 4 decimal places\n",
        "print(f\"Mean MSE: {mean_mse:.4f}\")\n",
        "print(f\"Standard Deviation MSE: {std_mse:.4f}\")\n"
      ],
      "metadata": {
        "colab": {
          "base_uri": "https://localhost:8080/"
        },
        "id": "ynS6v8mK4U3T",
        "outputId": "e7b7a395-8b31-45d7-89a7-9c36300cf61e"
      },
      "execution_count": 18,
      "outputs": [
        {
          "output_type": "stream",
          "name": "stdout",
          "text": [
            "Mean MSE: 150.4509\n",
            "Standard Deviation MSE: 8.7187\n"
          ]
        }
      ]
    }
  ]
}